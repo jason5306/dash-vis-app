{
 "cells": [
  {
   "cell_type": "code",
   "execution_count": 1,
   "id": "021bfa81",
   "metadata": {},
   "outputs": [],
   "source": [
    "import plotly.figure_factory as ff\n",
    "import plotly.graph_objs as go\n",
    "import pandas as pd\n",
    "import numpy as np\n",
    "import plotly.offline\n",
    "\n",
    "import plotly.io as pio\n",
    "pio.renderers.default='notebook'"
   ]
  },
  {
   "cell_type": "code",
   "execution_count": 2,
   "id": "1545b723",
   "metadata": {},
   "outputs": [],
   "source": [
    "df_VGG = pd.read_csv('../data/VGG.csv')\n",
    "df_AlexNet = pd.read_csv('../data/AlexNet.csv')\n",
    "df_GoogleNet = pd.read_csv('../data/GoogleNet.csv')\n",
    "df_LeNet = pd.read_csv('../data/LeNet.csv')\n",
    "df_ResNet = pd.read_csv('../data/ResNet.csv')\n",
    "df_SeNet = pd.read_csv('../data/SeNet.csv')"
   ]
  },
  {
   "cell_type": "code",
   "execution_count": 3,
   "id": "61f42053",
   "metadata": {},
   "outputs": [],
   "source": [
    "def get_area_list(df_model, model_name):\n",
    "\n",
    "    temp_list = df_model[['Research Areas','Publication Year']].dropna().values.tolist()\n",
    "    model = model_name\n",
    "    result_list = []\n",
    "    for row in temp_list:\n",
    "        for item in row[0].split(';'):\n",
    "            result = [model, str(int(row[1])), item.strip()]\n",
    "            result_list.append(result)\n",
    "            \n",
    "    return result_list"
   ]
  },
  {
   "cell_type": "code",
   "execution_count": 4,
   "id": "3bbaaa65",
   "metadata": {},
   "outputs": [],
   "source": [
    "VGG_list = get_area_list(df_VGG, 'VGG')\n",
    "AlexNet_list = get_area_list(df_VGG, 'AlexNet')\n",
    "GoogleNet_list = get_area_list(df_VGG, 'GoogleNet')\n",
    "LeNet_list = get_area_list(df_VGG, 'LeNet')\n",
    "ResNet_list = get_area_list(df_VGG, 'ResNet')\n",
    "SeNet_list = get_area_list(df_VGG, 'SeNet')"
   ]
  },
  {
   "cell_type": "code",
   "execution_count": 5,
   "id": "e49f5cb8",
   "metadata": {},
   "outputs": [],
   "source": [
    "header = ['Model', 'Publication Year', 'Research Areas']\n",
    "df = []\n",
    "df.extend(VGG_list)\n",
    "df.extend(AlexNet_list)\n",
    "df.extend(GoogleNet_list)\n",
    "df.extend(LeNet_list)\n",
    "df.extend(ResNet_list)\n",
    "df.extend(SeNet_list)\n",
    "df = pd.DataFrame(df, columns = header)"
   ]
  },
  {
   "cell_type": "code",
   "execution_count": 6,
   "id": "776983e6",
   "metadata": {},
   "outputs": [],
   "source": [
    "df['Publication Year'].loc[df['Publication Year'] < str(2010)] = 'Before 2000'"
   ]
  },
  {
   "cell_type": "code",
   "execution_count": 7,
   "id": "f152bd3a",
   "metadata": {},
   "outputs": [
    {
     "data": {
      "text/plain": [
       "Computer Science                             12852\n",
       "Engineering                                  10032\n",
       "Imaging Science & Photographic Technology     2388\n",
       "Telecommunications                            2238\n",
       "Optics                                        1044\n",
       "                                             ...  \n",
       "Obstetrics & Gynecology                          6\n",
       "Metallurgy & Metallurgical Engineering           6\n",
       "Nutrition & Dietetics                            6\n",
       "Medical Laboratory Technology                    6\n",
       "Reproductive Biology                             6\n",
       "Length: 104, dtype: int64"
      ]
     },
     "execution_count": 7,
     "metadata": {},
     "output_type": "execute_result"
    }
   ],
   "source": [
    "area_list = df['Research Areas'].values.tolist()\n",
    "result = pd.value_counts(area_list)\n",
    "result"
   ]
  },
  {
   "cell_type": "code",
   "execution_count": 8,
   "id": "77deff55",
   "metadata": {},
   "outputs": [
    {
     "data": {
      "text/plain": [
       "['Computer Science',\n",
       " 'Engineering',\n",
       " 'Imaging Science & Photographic Technology',\n",
       " 'Telecommunications',\n",
       " 'Optics',\n",
       " 'Chemistry',\n",
       " 'Physics',\n",
       " 'Radiology, Nuclear Medicine & Medical Imaging',\n",
       " 'Materials Science',\n",
       " 'Instruments & Instrumentation',\n",
       " 'Automation & Control Systems',\n",
       " 'Remote Sensing',\n",
       " 'Science & Technology - Other Topics',\n",
       " 'Mathematical & Computational Biology',\n",
       " 'Neurosciences & Neurology',\n",
       " 'Environmental Sciences & Ecology',\n",
       " 'Geology',\n",
       " 'Robotics',\n",
       " 'Agriculture',\n",
       " 'Mathematics',\n",
       " 'Oncology',\n",
       " 'Medical Informatics',\n",
       " 'General & Internal Medicine',\n",
       " 'Hematology',\n",
       " 'Geochemistry & Geophysics',\n",
       " 'Biochemistry & Molecular Biology',\n",
       " 'Operations Research & Management Science',\n",
       " 'Acoustics',\n",
       " 'Construction & Building Technology',\n",
       " 'Life Sciences & Biomedicine - Other Topics',\n",
       " 'Biophysics',\n",
       " 'Transportation',\n",
       " 'Energy & Fuels',\n",
       " 'Health Care Sciences & Services',\n",
       " 'Physical Geography',\n",
       " 'Immunology',\n",
       " 'Education & Educational Research']"
      ]
     },
     "execution_count": 8,
     "metadata": {},
     "output_type": "execute_result"
    }
   ],
   "source": [
    "area_display_list = result[result >= 100].index.tolist()\n",
    "area_display_list"
   ]
  },
  {
   "cell_type": "code",
   "execution_count": 9,
   "id": "c479153c",
   "metadata": {},
   "outputs": [],
   "source": [
    "df['Research Areas'] = df['Research Areas'].apply(lambda x : 'Others' if x not in area_display_list else x)\n",
    "df.to_csv('../data/DataParallelCategories.csv')"
   ]
  },
  {
   "cell_type": "code",
   "execution_count": null,
   "id": "8dc80d0c",
   "metadata": {},
   "outputs": [
    {
     "name": "stdout",
     "output_type": "stream",
     "text": [
      "Dash is running on http://127.0.0.1:8050/\n",
      "\n",
      " * Serving Flask app '__main__'\n",
      " * Debug mode: on\n"
     ]
    }
   ],
   "source": [
    "from dash import Dash, dcc, html, Input, Output\n",
    "import plotly.graph_objects as go\n",
    "import numpy as np\n",
    "import pandas as pd\n",
    "import json\n",
    "\n",
    "df = pd.read_csv('../data/a/DataParallelCategories.csv')\n",
    "\n",
    "# Create dimensions\n",
    "model_dim = go.parcats.Dimension(\n",
    "    values=df['Model'],\n",
    "    categoryorder='category ascending', label=\"Model\"\n",
    ")\n",
    "\n",
    "year_dim = go.parcats.Dimension(\n",
    "    values=df['Publication Year'],\n",
    "    categoryorder='category ascending', label=\"Year\"\n",
    ")\n",
    "\n",
    "area_dim = go.parcats.Dimension(\n",
    "    values=df['Research Areas'],\n",
    "    categoryorder='category ascending', label=\"Area\"\n",
    ")\n",
    "\n",
    "\n",
    "# Create parcats trace\n",
    "color = np.zeros(len(df), dtype='uint8')\n",
    "colorscale = [[0, 'rgb(177, 208, 230)'], [1, 'rgb(5, 121, 237)']]\n",
    "\n",
    "fig = go.FigureWidget(\n",
    "    data=go.Parcats(\n",
    "        dimensions=[model_dim, year_dim, area_dim],\n",
    "        line={'colorscale': colorscale, 'cmin': 0,\n",
    "              'cmax': 1, 'color': color},\n",
    "        hoveron='color',\n",
    "        arrangement='freeform'))\n",
    "fig.update_layout(\n",
    "        height=800,\n",
    "        dragmode='lasso', hovermode='closest',\n",
    "        autosize=True,\n",
    "        margin=dict(\n",
    "            l=20,\n",
    "            r=240,\n",
    "            b=50,\n",
    "            t=50,\n",
    "            pad=4\n",
    "        ))\n",
    "\n",
    "app = Dash(__name__)\n",
    "\n",
    "styles = {\n",
    "    'pre': {\n",
    "        'border': 'thin lightgrey solid',\n",
    "        'overflowX': 'scroll'\n",
    "    }\n",
    "}\n",
    "\n",
    "\n",
    "app.layout = html.Div([\n",
    "    html.H1('Dash'),\n",
    "    dcc.Graph(id=\"graph\",figure=fig),\n",
    "    html.Div([\n",
    "    html.Pre(id='click-data', style=styles['pre']),\n",
    "], className='three columns'),\n",
    "])\n",
    "\n",
    "\n",
    "@app.callback(\n",
    "    Output(\"graph\", \"figure\"),\n",
    "    Input('graph', 'clickData'))\n",
    "def update_figure(clickData):    \n",
    "    list_ = clickData['points']\n",
    "    res = [item['pointNumber'] for item in list_]\n",
    "    \n",
    "    new_color = np.zeros(len(df), dtype='uint8')\n",
    "    new_color[res] = 1\n",
    "    fig.data[0].line.color = new_color\n",
    "    return fig\n",
    "\n",
    "app.run_server(debug=True, use_reloader=False)"
   ]
  },
  {
   "cell_type": "code",
   "execution_count": 2,
   "id": "efc089ba",
   "metadata": {},
   "outputs": [],
   "source": [
    "html.Iframe?"
   ]
  },
  {
   "cell_type": "code",
   "execution_count": 1,
   "id": "21e03492",
   "metadata": {
    "scrolled": false
   },
   "outputs": [
    {
     "ename": "NameError",
     "evalue": "name 'np' is not defined",
     "output_type": "error",
     "traceback": [
      "\u001b[0;31m---------------------------------------------------------------------------\u001b[0m",
      "\u001b[0;31mNameError\u001b[0m                                 Traceback (most recent call last)",
      "Input \u001b[0;32mIn [1]\u001b[0m, in \u001b[0;36m<cell line: 24>\u001b[0;34m()\u001b[0m\n\u001b[1;32m     17\u001b[0m area_dim \u001b[38;5;241m=\u001b[39m go\u001b[38;5;241m.\u001b[39mparcats\u001b[38;5;241m.\u001b[39mDimension(\n\u001b[1;32m     18\u001b[0m     values\u001b[38;5;241m=\u001b[39mdf[\u001b[38;5;124m'\u001b[39m\u001b[38;5;124mResearch Areas\u001b[39m\u001b[38;5;124m'\u001b[39m],\n\u001b[1;32m     19\u001b[0m     categoryorder\u001b[38;5;241m=\u001b[39m\u001b[38;5;124m'\u001b[39m\u001b[38;5;124mcategory ascending\u001b[39m\u001b[38;5;124m'\u001b[39m, label\u001b[38;5;241m=\u001b[39m\u001b[38;5;124m\"\u001b[39m\u001b[38;5;124mArea\u001b[39m\u001b[38;5;124m\"\u001b[39m\n\u001b[1;32m     20\u001b[0m )\n\u001b[1;32m     23\u001b[0m \u001b[38;5;66;03m# Create parcats trace\u001b[39;00m\n\u001b[0;32m---> 24\u001b[0m color \u001b[38;5;241m=\u001b[39m \u001b[43mnp\u001b[49m\u001b[38;5;241m.\u001b[39mzeros(\u001b[38;5;28mlen\u001b[39m(df), dtype\u001b[38;5;241m=\u001b[39m\u001b[38;5;124m'\u001b[39m\u001b[38;5;124muint8\u001b[39m\u001b[38;5;124m'\u001b[39m)\n\u001b[1;32m     25\u001b[0m colorscale \u001b[38;5;241m=\u001b[39m [[\u001b[38;5;241m0\u001b[39m, \u001b[38;5;124m'\u001b[39m\u001b[38;5;124mrgb(177, 208, 230)\u001b[39m\u001b[38;5;124m'\u001b[39m], [\u001b[38;5;241m1\u001b[39m, \u001b[38;5;124m'\u001b[39m\u001b[38;5;124mrgb(5, 121, 237)\u001b[39m\u001b[38;5;124m'\u001b[39m]]\n\u001b[1;32m     27\u001b[0m fig \u001b[38;5;241m=\u001b[39m go\u001b[38;5;241m.\u001b[39mFigureWidget(\n\u001b[1;32m     28\u001b[0m     data\u001b[38;5;241m=\u001b[39mgo\u001b[38;5;241m.\u001b[39mParcats(\n\u001b[1;32m     29\u001b[0m         dimensions\u001b[38;5;241m=\u001b[39m[model_dim, year_dim, area_dim],\n\u001b[0;32m   (...)\u001b[0m\n\u001b[1;32m     32\u001b[0m         hoveron\u001b[38;5;241m=\u001b[39m\u001b[38;5;124m'\u001b[39m\u001b[38;5;124mcolor\u001b[39m\u001b[38;5;124m'\u001b[39m,\n\u001b[1;32m     33\u001b[0m         arrangement\u001b[38;5;241m=\u001b[39m\u001b[38;5;124m'\u001b[39m\u001b[38;5;124mfreeform\u001b[39m\u001b[38;5;124m'\u001b[39m))\n",
      "\u001b[0;31mNameError\u001b[0m: name 'np' is not defined"
     ]
    }
   ],
   "source": [
    "import plotly.graph_objects as go\n",
    "import pandas as pd\n",
    "\n",
    "df = pd.read_csv('../data/DataParallelCategories.csv')\n",
    "\n",
    "# Create dimensions\n",
    "model_dim = go.parcats.Dimension(\n",
    "    values=df['Model'],\n",
    "    categoryorder='category ascending', label=\"Model\"\n",
    ")\n",
    "\n",
    "year_dim = go.parcats.Dimension(\n",
    "    values=df['Publication Year'],\n",
    "    categoryorder='category ascending', label=\"Year\"\n",
    ")\n",
    "\n",
    "area_dim = go.parcats.Dimension(\n",
    "    values=df['Research Areas'],\n",
    "    categoryorder='category ascending', label=\"Area\"\n",
    ")\n",
    "\n",
    "\n",
    "# Create parcats trace\n",
    "color = np.zeros(len(df), dtype='uint8')\n",
    "colorscale = [[0, 'rgb(177, 208, 230)'], [1, 'rgb(5, 121, 237)']]\n",
    "\n",
    "fig = go.FigureWidget(\n",
    "    data=go.Parcats(\n",
    "        dimensions=[model_dim, year_dim, area_dim],\n",
    "        line={'colorscale': colorscale, 'cmin': 0,\n",
    "              'cmax': 1, 'color': color},\n",
    "        hoveron='color',\n",
    "        arrangement='freeform'))\n",
    "fig.update_layout(\n",
    "        height=800, xaxis={'title': 'Horsepower'},\n",
    "        yaxis={'title': 'MPG', 'domain': [0.6, 1]},\n",
    "        dragmode='lasso', hovermode='closest',\n",
    "        autosize=True,\n",
    "        margin=dict(\n",
    "            l=20,\n",
    "            r=240,\n",
    "            b=50,\n",
    "            t=50,\n",
    "            pad=4\n",
    "        ))\n",
    "\n",
    "def update_color(trace, points, state):\n",
    "    # Update scatter selection\n",
    "\n",
    "    # Update parcats colors\n",
    "    new_color = np.zeros(len(df), dtype='uint8')\n",
    "    new_color[points.point_inds] = 1\n",
    "    fig.data[0].line.color = new_color\n",
    "    #print(points.point_inds)\n",
    "\n",
    "fig.data[0].on_click(update_color)\n",
    "fig"
   ]
  }
 ],
 "metadata": {
  "kernelspec": {
   "display_name": "Python 3 (ipykernel)",
   "language": "python",
   "name": "python3"
  },
  "language_info": {
   "codemirror_mode": {
    "name": "ipython",
    "version": 3
   },
   "file_extension": ".py",
   "mimetype": "text/x-python",
   "name": "python",
   "nbconvert_exporter": "python",
   "pygments_lexer": "ipython3",
   "version": "3.8.13"
  }
 },
 "nbformat": 4,
 "nbformat_minor": 5
}
